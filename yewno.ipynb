{
 "cells": [
  {
   "cell_type": "code",
   "execution_count": 1,
   "metadata": {
    "collapsed": false
   },
   "outputs": [],
   "source": [
    "import numpy as np\n",
    "import nltk\n",
    "import glob\n",
    "import os\n",
    "from sklearn.feature_extraction.text import CountVectorizer\n",
    "from scipy.cluster.vq import whiten\n",
    "from sklearn.metrics import accuracy_score,precision_score, recall_score\n",
    "from sklearn.linear_model import LogisticRegression\n",
    "from sklearn.naive_bayes import GaussianNB\n",
    "from sklearn import svm\n",
    "from sklearn.cross_validation import KFold\n"
   ]
  },
  {
   "cell_type": "code",
   "execution_count": 3,
   "metadata": {
    "collapsed": false
   },
   "outputs": [
    {
     "name": "stdout",
     "output_type": "stream",
     "text": [
      "40\n"
     ]
    }
   ],
   "source": [
    "\n",
    "#preparing and loading data\n",
    "def GetData(path):\n",
    "   \n",
    "    files = sorted(glob.glob(os.path.join(path, \"*.txt\")))\n",
    "    books = []\n",
    "    y=[]\n",
    "    for fn in files:\n",
    "        y.append(fn.split(\"\\\\\")[4].split(\"_\")[0])\n",
    "        with open(fn) as f:\n",
    "            books.append(f.read().replace('\\n', ' '))\n",
    "    all_text = ' '.join(books)\n",
    "    print len(books)\n",
    "    y=np.array(y)\n",
    "    return y,books,all_text\n",
    "    \n",
    "\n",
    "y,books,all_text=GetData(r\"C:\\data\\MS\\yewno\")"
   ]
  },
  {
   "cell_type": "code",
   "execution_count": 4,
   "metadata": {
    "collapsed": false
   },
   "outputs": [],
   "source": [
    "sentence_tokenizer = nltk.data.load('tokenizers/punkt/english.pickle')\n",
    "word_tokenizer = nltk.tokenize.RegexpTokenizer(r'\\w+')\n",
    "def getSpecifications(text):\n",
    "   \n",
    "    tokens = nltk.word_tokenize(text.lower())\n",
    "\n",
    "    words = word_tokenizer.tokenize(text.lower())\n",
    "    sentences = sentence_tokenizer.tokenize(text)\n",
    "    vocab = set(words)\n",
    "\n",
    "    words_per_sentence = np.array([len(word_tokenizer.tokenize(s))\n",
    "                                   for s in sentences])\n",
    "\n",
    "\n",
    "    return tokens,words,sentences,vocab,words_per_sentence\n",
    "\n",
    "  "
   ]
  },
  {
   "cell_type": "code",
   "execution_count": 5,
   "metadata": {
    "collapsed": false
   },
   "outputs": [],
   "source": [
    "#for visualizing tokens, words, sentences, etc\n",
    "%matplotlib inline\n",
    "import matplotlib.pyplot as plt\n",
    "\n",
    "def plotSpecifications(x,color,ylab):\n",
    "    plt.figure(figsize=(7,7))\n",
    "    \n",
    "    width = 0.60   \n",
    "    ind = np.arange(40)\n",
    "    p1 = plt.bar(ind, x, width, color=color)\n",
    "    plt.ylabel(ylab)\n",
    "    plt.title('Books')\n",
    "   \n",
    "\n",
    "    plt.show()\n",
    "    \n"
   ]
  },
  {
   "cell_type": "code",
   "execution_count": 6,
   "metadata": {
    "collapsed": false
   },
   "outputs": [],
   "source": [
    "\n",
    "def LexicalFeatures(books):\n",
    "    t=[]\n",
    "    wps=[]\n",
    "    s=[]\n",
    "    unique_words=[]\n",
    "    fvs_lexical = np.zeros((len(books), 3), np.float64)\n",
    "    fvs_punct = np.zeros((len(books), 3), np.float64)\n",
    "    for i, text in enumerate(books):\n",
    "        print i,\n",
    "        tokens,words,sentences,vocab,words_per_sentence=getSpecifications(text)\n",
    "      \n",
    "        t.append(len(tokens))\n",
    "        wps.append(len(words_per_sentence))\n",
    "        s.append(len(sentences))\n",
    "        unique_words.append(len(vocab))\n",
    "        \n",
    "        # average number of words per sentence\n",
    "        fvs_lexical[i, 0] = words_per_sentence.mean()\n",
    "        # sentence length variation\n",
    "        fvs_lexical[i, 1] = words_per_sentence.std()\n",
    "        # Lexical diversity\n",
    "        fvs_lexical[i, 2] = len(vocab) / float(len(words))\n",
    "    \n",
    "    \n",
    "        '''punctuation fetaures'''\n",
    "        # Commas per sentence\n",
    "        fvs_punct[i, 0] = tokens.count(',') / float(len(sentences))\n",
    "        # Semicolons per sentence\n",
    "        fvs_punct[i, 1] = tokens.count(';') / float(len(sentences))\n",
    "        # Colons per sentence\n",
    "        fvs_punct[i, 2] = tokens.count(':') / float(len(sentences))\n",
    "    # apply whitening to decorrelate the features\n",
    "    #fvs_lexical = whiten(fvs_lexical)\n",
    "    #fvs_punct = whiten(fvs_punct)\n",
    "    plotSpecifications(t,color='r',ylab=\"tokens per book\")\n",
    "    plotSpecifications(s,color='g', ylab= \"number of sentences in each book\")\n",
    "    plotSpecifications(wps,color='y', ylab= \"words per sentence in each book\")\n",
    "  \n",
    "    plotSpecifications(unique_words,color='b', ylab=\"number of unique words in each book\")\n",
    "    merge=np.concatenate([fvs_lexical,fvs_punct],axis=1)\n",
    "    return merge\n",
    "\n"
   ]
  },
  {
   "cell_type": "code",
   "execution_count": 7,
   "metadata": {
    "collapsed": false
   },
   "outputs": [],
   "source": [
    "def BagOfWords(all_text):\n",
    "    # get most common words in the whole book\n",
    "    all_tokens = nltk.word_tokenize(all_text)    \n",
    "    fdist = nltk.FreqDist(all_tokens)\n",
    "    vocab = fdist.keys()[:250]\n",
    "    \n",
    "    \n",
    "    vectorizer = CountVectorizer(vocabulary=vocab, tokenizer=nltk.word_tokenize)\n",
    "    fvs_bow = vectorizer.fit_transform(books).toarray().astype(np.float64)\n",
    "\n",
    "    # normalization\n",
    "    fvs_bow /= np.c_[np.apply_along_axis(np.linalg.norm, 1, fvs_bow)]\n",
    "    return fvs_bow"
   ]
  },
  {
   "cell_type": "code",
   "execution_count": 8,
   "metadata": {
    "collapsed": false
   },
   "outputs": [
    {
     "name": "stdout",
     "output_type": "stream",
     "text": [
      "0 1 2 3 4 5 6 7 8 9 10 11 12 13 14 15 16 17 18 19 20 21 22 23 24 25 26 27 28 29 30 31 32 33 34 35 36 37 38 39"
     ]
    },
    {
     "data": {
      "image/png": "[encoded data removed]",
      "text/plain": [
       "<matplotlib.figure.Figure at 0x2045f240>"
      ]
     },
     "metadata": {},
     "output_type": "display_data"
    },
    {
     "data": {
      "image/png": "[encoded data removed]",
      "text/plain": [
       "<matplotlib.figure.Figure at 0x23c2ef28>"
      ]
     },
     "metadata": {},
     "output_type": "display_data"
    },
    {
     "data": {
      "image/png": "[encoded data removed]",
      "text/plain": [
       "<matplotlib.figure.Figure at 0x23c2e080>"
      ]
     },
     "metadata": {},
     "output_type": "display_data"
    },
    {
     "data": {
      "image/png": "[encoded data removed]",
      "text/plain": [
       "<matplotlib.figure.Figure at 0x24037f60>"
      ]
     },
     "metadata": {},
     "output_type": "display_data"
    },
    {
     "name": "stdout",
     "output_type": "stream",
     "text": [
      " \n",
      "done with extracting lexical features\n",
      "done with extracting bags\n",
      "(40L, 256L)\n"
     ]
    }
   ],
   "source": [
    "lexicals=LexicalFeatures(books)\n",
    "print \"\\ndone with extracting lexical features\"\n",
    "bags=BagOfWords(all_text)\n",
    "print \"done with extracting bags\"\n",
    "feature_sets=np.concatenate([lexicals,bags],axis=1)\n",
    "print feature_sets.shape"
   ]
  },
  {
   "cell_type": "code",
   "execution_count": 10,
   "metadata": {
    "collapsed": false,
    "scrolled": true
   },
   "outputs": [
    {
     "name": "stdout",
     "output_type": "stream",
     "text": [
      "[[ 1.40881351  0.89924476  1.62653062 ...,  0.11228851  0.05587604\n",
      "   0.04350311]\n",
      " [ 1.39012809  0.85152796  1.62089262 ...,  0.10520725  0.04386239\n",
      "   0.03731427]\n",
      " [ 1.16214828  0.73296438  1.2593092  ...,  0.09767357  0.05451163\n",
      "   0.04196363]\n",
      " ..., \n",
      " [ 1.08369442  1.27671475  2.49898536 ...,  0.07717894  0.05146164\n",
      "   0.02804294]\n",
      " [ 0.84925335  1.05735484  2.41965399 ...,  0.06786728  0.06230778\n",
      "   0.02433759]\n",
      " [ 0.67106365  0.71357679  2.37117952 ...,  0.07243147  0.04446178\n",
      "   0.0318327 ]]\n"
     ]
    }
   ],
   "source": [
    "print feature_sets"
   ]
  },
  {
   "cell_type": "code",
   "execution_count": 9,
   "metadata": {
    "collapsed": false
   },
   "outputs": [],
   "source": [
    "\n",
    "\n",
    "def get_LR_clf():\n",
    "    \n",
    "    return LogisticRegression(random_state=np.random.seed(seed=42))\n",
    "def get_NB_clf():\n",
    "    \n",
    "    return GaussianNB()\n",
    "def get_SVM_clf():\n",
    "    return svm.LinearSVC()"
   ]
  },
  {
   "cell_type": "code",
   "execution_count": 27,
   "metadata": {
    "collapsed": false
   },
   "outputs": [],
   "source": [
    "\n",
    "def do_cross_validation(X, y, model,filename,n_folds=10, verbose=False):\n",
    "    outf = open(filename, 'wt')\n",
    "    #model = get_LR_clf()\n",
    "    model.fit(X, y)\n",
    "    \n",
    "    cv = KFold(len(y), n_folds)\n",
    "    accuracies = []\n",
    "    precisions=[]\n",
    "    recalls=[]\n",
    "    i=0\n",
    "    outf.write(\"true labels\\t predicted labels\\n\")\n",
    "    for train_ind, test_ind in cv:\n",
    "        i+=1\n",
    "        outf.write(\"\\nfold k=%d\\n\"%i)\n",
    "        model.fit(X[train_ind], y[train_ind])\n",
    "        predictions = model.predict(X[test_ind])\n",
    "        \n",
    "        m=-1\n",
    "        for j in test_ind:\n",
    "            m+=1\n",
    "            outf.write(y[j]+\"\\t\"+predictions[m]+\"\\n\")\n",
    "            \n",
    "        accuracies.append(accuracy_score(y[test_ind], predictions))\n",
    "        precisions.append(precision_score(y[test_ind], predictions,pos_label=None,average='weighted'))\n",
    "        recalls.append(recall_score(y[test_ind], predictions,pos_label=None,average='weighted'))\n",
    "    \n",
    "    return np.mean(accuracies),np.mean(precisions),np.mean(recalls)\n",
    "    \n",
    "accuracy,precision,recall=  do_cross_validation(feature_sets, y,model=get_LR_clf(),filename=\"LogisticRegressionOp.txt\")   \n",
    "\n"
   ]
  },
  {
   "cell_type": "code",
   "execution_count": 18,
   "metadata": {
    "collapsed": false
   },
   "outputs": [
    {
     "name": "stdout",
     "output_type": "stream",
     "text": [
      "average accuracy for Logistic Regression= 0.55\n",
      "average precision for Logistic Regression= 0.85\n",
      "average recall for Logistic Regression= 0.55\n"
     ]
    }
   ],
   "source": [
    "print \"average accuracy for Logistic Regression=\", accuracy\n",
    "print \"average precision for Logistic Regression=\", precision\n",
    "print \"average recall for Logistic Regression=\", recall\n"
   ]
  },
  {
   "cell_type": "code",
   "execution_count": 28,
   "metadata": {
    "collapsed": false
   },
   "outputs": [
    {
     "name": "stdout",
     "output_type": "stream",
     "text": [
      "average accuracy for Naive Bayes= 0.375\n",
      "average precision for Naive Bayes= 0.658333333333\n",
      "average recall for Naive Bayes= 0.375\n"
     ]
    }
   ],
   "source": [
    "\n",
    "accuracy1,precision1,recall1=do_cross_validation(feature_sets, y, model=get_NB_clf(),filename=\"Naive Bayes Op.txt\")\n",
    "print \"average accuracy for Naive Bayes=\", accuracy1\n",
    "print \"average precision for Naive Bayes=\", precision1\n",
    "print \"average recall for Naive Bayes=\", recall1\n"
   ]
  },
  {
   "cell_type": "code",
   "execution_count": 29,
   "metadata": {
    "collapsed": false
   },
   "outputs": [
    {
     "name": "stdout",
     "output_type": "stream",
     "text": [
      "average accuracy for Support Vectors= 0.8\n",
      "average precision for Support Vectors= 1.0\n",
      "average recall for SUpport Vectors= 0.8\n"
     ]
    }
   ],
   "source": [
    "\n",
    "accuracy2,precision2,recall2=do_cross_validation(feature_sets, y, model=get_SVM_clf(), filename=\"SVM op.txt\")\n",
    "print \"average accuracy for Support Vectors=\", accuracy2\n",
    "print \"average precision for Support Vectors=\", precision2\n",
    "print \"average recall for SUpport Vectors=\", recall2\n",
    "\n",
    "      "
   ]
  },
  {
   "cell_type": "code",
   "execution_count": 14,
   "metadata": {
    "collapsed": false
   },
   "outputs": [],
   "source": []
  },
  {
   "cell_type": "code",
   "execution_count": null,
   "metadata": {
    "collapsed": true
   },
   "outputs": [],
   "source": []
  }
 ],
 "metadata": {
  "kernelspec": {
   "display_name": "Python 2",
   "language": "python",
   "name": "python2"
  },
  "language_info": {
   "codemirror_mode": {
    "name": "ipython",
    "version": 2
   },
   "file_extension": ".py",
   "mimetype": "text/x-python",
   "name": "python",
   "nbconvert_exporter": "python",
   "pygments_lexer": "ipython2",
   "version": "2.7.10"
  }
 },
 "nbformat": 4,
 "nbformat_minor": 0
}
